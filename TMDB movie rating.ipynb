{
 "cells": [
  {
   "cell_type": "markdown",
   "metadata": {},
   "source": [
    "# TMDB movie rating"
   ]
  },
  {
   "cell_type": "markdown",
   "metadata": {},
   "source": [
    "## 1. Objective\n",
    "In this notebook, we aim to analyze moving rating data provided by TMDB and build up a movie recommendation engine.\n",
    "\n",
    "Generally speaking, three methods are widely adopted in building up recommendation system, and they are often combined due to the attributes of each method.For TMDB dataset, we will mainly use Popularity-based and Content-based methods. We will do Collaboratie-filtering with another dataset.\n",
    "1. Popularity-based recommendation\n",
    "2. Content-based recommendation\n",
    "3. Collaboratie-filtering recommendation"
   ]
  },
  {
   "cell_type": "markdown",
   "metadata": {},
   "source": [
    "## 2. Data Preprocessing"
   ]
  },
  {
   "cell_type": "markdown",
   "metadata": {},
   "source": [
    "### 2.1 Data Loading\n",
    "The codes used for data loading belongs entirely to https://www.kaggle.com/fabiendaniel/film-recommendation-engine/data"
   ]
  },
  {
   "cell_type": "code",
   "execution_count": 2,
   "metadata": {},
   "outputs": [],
   "source": [
    "import numpy as np\n",
    "import pandas as pd\n",
    "from functools import reduce\n",
    "import matplotlib as mpl\n",
    "import matplotlib.pyplot as plt\n",
    "import seaborn as sns\n",
    "import math, nltk, warnings\n",
    "from nltk.corpus import wordnet\n",
    "from sklearn import linear_model\n",
    "from sklearn.neighbors import NearestNeighbors"
   ]
  },
  {
   "cell_type": "code",
   "execution_count": 4,
   "metadata": {},
   "outputs": [],
   "source": [
    "import json\n",
    "\n",
    "#___________________________\n",
    "def load_tmdb_movies(path):\n",
    "    df = pd.read_csv(path)\n",
    "    df['release_date'] = pd.to_datetime(df['release_date']).apply(lambda x: x.date())\n",
    "    json_columns = ['genres', 'keywords', 'production_countries',\n",
    "                    'production_companies', 'spoken_languages']\n",
    "    for column in json_columns:\n",
    "        df[column] = df[column].apply(json.loads)\n",
    "    return df\n",
    "#___________________________\n",
    "def load_tmdb_credits(path):\n",
    "    df = pd.read_csv(path)\n",
    "    json_columns = ['cast', 'crew']\n",
    "    for column in json_columns:\n",
    "        df[column] = df[column].apply(json.loads)\n",
    "    return df\n",
    "#___________________\n",
    "LOST_COLUMNS = [\n",
    "    'actor_1_facebook_likes',\n",
    "    'actor_2_facebook_likes',\n",
    "    'actor_3_facebook_likes',\n",
    "    'aspect_ratio',\n",
    "    'cast_total_facebook_likes',\n",
    "    'color',\n",
    "    'content_rating',\n",
    "    'director_facebook_likes',\n",
    "    'facenumber_in_poster',\n",
    "    'movie_facebook_likes',\n",
    "    'movie_imdb_link',\n",
    "    'num_critic_for_reviews',\n",
    "    'num_user_for_reviews']\n",
    "#____________________________________\n",
    "TMDB_TO_IMDB_SIMPLE_EQUIVALENCIES = {\n",
    "    'budget': 'budget',\n",
    "    'genres': 'genres',\n",
    "    'revenue': 'gross',\n",
    "    'title': 'movie_title',\n",
    "    'runtime': 'duration',\n",
    "    'original_language': 'language',\n",
    "    'keywords': 'plot_keywords',\n",
    "    'vote_count': 'num_voted_users'}\n",
    "#_____________________________________________________\n",
    "IMDB_COLUMNS_TO_REMAP = {'imdb_score': 'vote_average'}\n",
    "#_____________________________________________________\n",
    "def safe_access(container, index_values):\n",
    "    # return missing value rather than an error upon indexing/key failure\n",
    "    result = container\n",
    "    try:\n",
    "        for idx in index_values:\n",
    "            result = result[idx]\n",
    "        return result\n",
    "    except IndexError or KeyError:\n",
    "        return pd.np.nan\n",
    "#_____________________________________________________\n",
    "def get_director(crew_data):\n",
    "    directors = [x['name'] for x in crew_data if x['job'] == 'Director']\n",
    "    return safe_access(directors, [0])\n",
    "#_____________________________________________________\n",
    "def pipe_flatten_names(keywords):\n",
    "    return '|'.join([x['name'] for x in keywords])\n",
    "#_____________________________________________________\n",
    "def convert_to_original_format(movies, credits):\n",
    "    tmdb_movies = movies.copy()\n",
    "    tmdb_movies.rename(columns=TMDB_TO_IMDB_SIMPLE_EQUIVALENCIES, inplace=True)\n",
    "    tmdb_movies['title_year'] = pd.to_datetime(tmdb_movies['release_date']).apply(lambda x: x.year)\n",
    "    # I'm assuming that the first production country is equivalent, but have not been able to validate this\n",
    "    tmdb_movies['country'] = tmdb_movies['production_countries'].apply(lambda x: safe_access(x, [0, 'name']))\n",
    "    tmdb_movies['language'] = tmdb_movies['spoken_languages'].apply(lambda x: safe_access(x, [0, 'name']))\n",
    "    tmdb_movies['director_name'] = credits['crew'].apply(get_director)\n",
    "    tmdb_movies['actor_1_name'] = credits['cast'].apply(lambda x: safe_access(x, [1, 'name']))\n",
    "    tmdb_movies['actor_2_name'] = credits['cast'].apply(lambda x: safe_access(x, [2, 'name']))\n",
    "    tmdb_movies['actor_3_name'] = credits['cast'].apply(lambda x: safe_access(x, [3, 'name']))\n",
    "    tmdb_movies['genres'] = tmdb_movies['genres'].apply(pipe_flatten_names)\n",
    "    tmdb_movies['plot_keywords'] = tmdb_movies['plot_keywords'].apply(pipe_flatten_names)\n",
    "    return tmdb_movies"
   ]
  },
  {
   "cell_type": "code",
   "execution_count": null,
   "metadata": {},
   "outputs": [],
   "source": [
    "plt.rcParams[\"patch.force_edgecolor\"] = True\n",
    "plt.style.use('fivethirtyeight')\n",
    "mpl.rc('patch', edgecolor = 'dimgray', linewidth=1)\n",
    "from IPython.core.interactiveshell import InteractiveShell\n",
    "InteractiveShell.ast_node_interactivity = \"last_expr\"\n",
    "pd.options.display.max_columns = 50\n",
    "%matplotlib inline\n",
    "warnings.filterwarnings('ignore')\n",
    "PS = nltk.stem.PorterStemmer()"
   ]
  },
  {
   "cell_type": "code",
   "execution_count": 50,
   "metadata": {},
   "outputs": [],
   "source": [
    "# load the dataset\n",
    "# for local server\n",
    "credits = load_tmdb_credits(\"/Users/machen/Documents/000 MSBA/452 Machine Learning/HW3 TMDB MOVIE/tmdb/tmdb_5000_credits.csv\")\n",
    "movies = load_tmdb_movies(\"/Users/machen/Documents/000 MSBA/452 Machine Learning/HW3 TMDB MOVIE/tmdb/tmdb_5000_movies.csv\")\n",
    "\n",
    "# for kaggle\n",
    "#from subprocess import check_output\n",
    "#print(check_output([\"ls\",\"../input/\"]))\n",
    "#credits = load_tmdb_credits(\"../input/tmdb_5000_credits.csv\")\n",
    "#movies = load_tmdb_movies(\"../input/tmdb_5000_movies.csv\")\n",
    "\n",
    "\n",
    "#df_initial = convert_to_original_format(movies, credits)\n",
    "#df_initial = convert_to_original_format(movies, credits)\n",
    "#print('Shape:',df_initial.shape)"
   ]
  },
  {
   "cell_type": "markdown",
   "metadata": {},
   "source": [
    "### 2.2 Missing Values"
   ]
  },
  {
   "cell_type": "code",
   "execution_count": 8,
   "metadata": {},
   "outputs": [
    {
     "data": {
      "text/html": [
       "<div>\n",
       "<style scoped>\n",
       "    .dataframe tbody tr th:only-of-type {\n",
       "        vertical-align: middle;\n",
       "    }\n",
       "\n",
       "    .dataframe tbody tr th {\n",
       "        vertical-align: top;\n",
       "    }\n",
       "\n",
       "    .dataframe thead th {\n",
       "        text-align: right;\n",
       "    }\n",
       "</style>\n",
       "<table border=\"1\" class=\"dataframe\">\n",
       "  <thead>\n",
       "    <tr style=\"text-align: right;\">\n",
       "      <th></th>\n",
       "      <th>budget</th>\n",
       "      <th>genres</th>\n",
       "      <th>homepage</th>\n",
       "      <th>id</th>\n",
       "      <th>plot_keywords</th>\n",
       "      <th>language</th>\n",
       "      <th>original_title</th>\n",
       "      <th>overview</th>\n",
       "      <th>popularity</th>\n",
       "      <th>production_companies</th>\n",
       "      <th>production_countries</th>\n",
       "      <th>release_date</th>\n",
       "      <th>gross</th>\n",
       "      <th>duration</th>\n",
       "      <th>spoken_languages</th>\n",
       "      <th>status</th>\n",
       "      <th>tagline</th>\n",
       "      <th>movie_title</th>\n",
       "      <th>vote_average</th>\n",
       "      <th>num_voted_users</th>\n",
       "      <th>title_year</th>\n",
       "      <th>country</th>\n",
       "      <th>director_name</th>\n",
       "      <th>actor_1_name</th>\n",
       "      <th>actor_2_name</th>\n",
       "      <th>actor_3_name</th>\n",
       "    </tr>\n",
       "  </thead>\n",
       "  <tbody>\n",
       "    <tr>\n",
       "      <th>column type</th>\n",
       "      <td>int64</td>\n",
       "      <td>object</td>\n",
       "      <td>object</td>\n",
       "      <td>int64</td>\n",
       "      <td>object</td>\n",
       "      <td>object</td>\n",
       "      <td>object</td>\n",
       "      <td>object</td>\n",
       "      <td>float64</td>\n",
       "      <td>object</td>\n",
       "      <td>object</td>\n",
       "      <td>object</td>\n",
       "      <td>int64</td>\n",
       "      <td>float64</td>\n",
       "      <td>object</td>\n",
       "      <td>object</td>\n",
       "      <td>object</td>\n",
       "      <td>object</td>\n",
       "      <td>float64</td>\n",
       "      <td>int64</td>\n",
       "      <td>float64</td>\n",
       "      <td>object</td>\n",
       "      <td>object</td>\n",
       "      <td>object</td>\n",
       "      <td>object</td>\n",
       "      <td>object</td>\n",
       "    </tr>\n",
       "    <tr>\n",
       "      <th>null values</th>\n",
       "      <td>0</td>\n",
       "      <td>0</td>\n",
       "      <td>3091</td>\n",
       "      <td>0</td>\n",
       "      <td>0</td>\n",
       "      <td>86</td>\n",
       "      <td>0</td>\n",
       "      <td>3</td>\n",
       "      <td>0</td>\n",
       "      <td>0</td>\n",
       "      <td>0</td>\n",
       "      <td>1</td>\n",
       "      <td>0</td>\n",
       "      <td>2</td>\n",
       "      <td>0</td>\n",
       "      <td>0</td>\n",
       "      <td>844</td>\n",
       "      <td>0</td>\n",
       "      <td>0</td>\n",
       "      <td>0</td>\n",
       "      <td>1</td>\n",
       "      <td>174</td>\n",
       "      <td>30</td>\n",
       "      <td>53</td>\n",
       "      <td>63</td>\n",
       "      <td>93</td>\n",
       "    </tr>\n",
       "    <tr>\n",
       "      <th>null values (%)</th>\n",
       "      <td>0</td>\n",
       "      <td>0</td>\n",
       "      <td>64.3556</td>\n",
       "      <td>0</td>\n",
       "      <td>0</td>\n",
       "      <td>1.79055</td>\n",
       "      <td>0</td>\n",
       "      <td>0.062461</td>\n",
       "      <td>0</td>\n",
       "      <td>0</td>\n",
       "      <td>0</td>\n",
       "      <td>0.0208203</td>\n",
       "      <td>0</td>\n",
       "      <td>0.0416406</td>\n",
       "      <td>0</td>\n",
       "      <td>0</td>\n",
       "      <td>17.5724</td>\n",
       "      <td>0</td>\n",
       "      <td>0</td>\n",
       "      <td>0</td>\n",
       "      <td>0.0208203</td>\n",
       "      <td>3.62274</td>\n",
       "      <td>0.62461</td>\n",
       "      <td>1.10348</td>\n",
       "      <td>1.31168</td>\n",
       "      <td>1.93629</td>\n",
       "    </tr>\n",
       "  </tbody>\n",
       "</table>\n",
       "</div>"
      ],
      "text/plain": [
       "                budget  genres homepage     id plot_keywords language  \\\n",
       "column type      int64  object   object  int64        object   object   \n",
       "null values          0       0     3091      0             0       86   \n",
       "null values (%)      0       0  64.3556      0             0  1.79055   \n",
       "\n",
       "                original_title  overview popularity production_companies  \\\n",
       "column type             object    object    float64               object   \n",
       "null values                  0         3          0                    0   \n",
       "null values (%)              0  0.062461          0                    0   \n",
       "\n",
       "                production_countries release_date  gross   duration  \\\n",
       "column type                   object       object  int64    float64   \n",
       "null values                        0            1      0          2   \n",
       "null values (%)                    0    0.0208203      0  0.0416406   \n",
       "\n",
       "                spoken_languages  status  tagline movie_title vote_average  \\\n",
       "column type               object  object   object      object      float64   \n",
       "null values                    0       0      844           0            0   \n",
       "null values (%)                0       0  17.5724           0            0   \n",
       "\n",
       "                num_voted_users title_year  country director_name  \\\n",
       "column type               int64    float64   object        object   \n",
       "null values                   0          1      174            30   \n",
       "null values (%)               0  0.0208203  3.62274       0.62461   \n",
       "\n",
       "                actor_1_name actor_2_name actor_3_name  \n",
       "column type           object       object       object  \n",
       "null values               53           63           93  \n",
       "null values (%)      1.10348      1.31168      1.93629  "
      ]
     },
     "execution_count": 8,
     "metadata": {},
     "output_type": "execute_result"
    }
   ],
   "source": [
    "# info on variable types and filling factor\n",
    "tab_info=pd.DataFrame(df_initial.dtypes).T.rename(index={0:'column type'})\n",
    "tab_info=tab_info.append(pd.DataFrame(df_initial.isnull().sum()).T.rename(index={0:'null values'}))\n",
    "tab_info=tab_info.append(pd.DataFrame(df_initial.isnull().sum()/df_initial.shape[0]*100).T.\n",
    "                         rename(index={0:'null values (%)'}))\n",
    "tab_info"
   ]
  },
  {
   "cell_type": "markdown",
   "metadata": {},
   "source": [
    "## 3. Recommendation Systems"
   ]
  },
  {
   "attachments": {
    "image.png": {
     "image/png": "[encoded data removed]"
    }
   },
   "cell_type": "markdown",
   "metadata": {},
   "source": [
    "### 3.1 Demographic Filtering Recommendation\n",
    "In order to demonstate how a movie is liked by users, vote average and number of voted users are combined to formulate a new metric. The formula is used by IMDB (https://www.kaggle.com/ibtesama/getting-started-with-a-movie-recommendation-system)\n",
    "![image.png](attachment:image.png)"
   ]
  },
  {
   "cell_type": "markdown",
   "metadata": {},
   "source": [
    "**Advantages**\n",
    "1. Can be used to solve \"cold-start\" issue, meaning recommending movies for new users, where user-level preference information is missing.\n",
    "\n",
    "**Disadvantages**\n",
    "1. Can not make personalized recommendation, though combinded with cookie information, it can make recommendations like \"what's popular around\".\n",
    "2. Can not make minority recommendation. Moives with high rating but small number of ratings do not stand out in this algorithum.\n",
    "\n",
    "**Improvements**\n",
    "1. The formula does not take **recent pupularity trend** into consideration. Some movies which have been on shelf for a long time such as The Shawshank Redemption(1994), have accumulate large amounts of votes, compared with newly released movies. If we want to recommend more popular movies to viewers, the more recent a rating is, the higher weight is has."
   ]
  },
  {
   "cell_type": "markdown",
   "metadata": {},
   "source": [
    "We already have v(vote_count) and R (vote_average) and C can be calculated as："
   ]
  },
  {
   "cell_type": "code",
   "execution_count": 9,
   "metadata": {},
   "outputs": [
    {
     "data": {
      "text/plain": [
       "6.092171559442011"
      ]
     },
     "execution_count": 9,
     "metadata": {},
     "output_type": "execute_result"
    }
   ],
   "source": [
    "C = df_initial['vote_average'].mean()\n",
    "C"
   ]
  },
  {
   "cell_type": "markdown",
   "metadata": {},
   "source": [
    "The next step is to determine an appropriate value for m, the minimum votes required to be listed in the chart. We will use 90th percentile as our cutoff. In other words, for a movie to feature in the charts, it must have more votes than at least 90% of the movies in the list."
   ]
  },
  {
   "cell_type": "code",
   "execution_count": 10,
   "metadata": {},
   "outputs": [
    {
     "data": {
      "text/plain": [
       "1838.4000000000015"
      ]
     },
     "execution_count": 10,
     "metadata": {},
     "output_type": "execute_result"
    }
   ],
   "source": [
    "m = df_initial['num_voted_users'].quantile(q=0.9)\n",
    "m"
   ]
  },
  {
   "cell_type": "markdown",
   "metadata": {},
   "source": [
    "Filter the movies qualified for number of votes(votes > 1838)"
   ]
  },
  {
   "cell_type": "code",
   "execution_count": 11,
   "metadata": {},
   "outputs": [
    {
     "data": {
      "text/plain": [
       "(481, 27)"
      ]
     },
     "execution_count": 11,
     "metadata": {},
     "output_type": "execute_result"
    }
   ],
   "source": [
    "movies = df_initial.copy().loc[df_initial['num_voted_users']>= m]\n",
    "movies.shape"
   ]
  },
  {
   "cell_type": "markdown",
   "metadata": {},
   "source": [
    "Now, we need to calculate our metric for each qualified movie. To do this, we will define a function, weighted_rating() and define a new feature score, of which we'll calculate the value by applying this function to our DataFrame of qualified movies:"
   ]
  },
  {
   "cell_type": "code",
   "execution_count": 12,
   "metadata": {},
   "outputs": [],
   "source": [
    "def weighted_rating(x, m=m, C=C):\n",
    "    v = x['num_voted_users']\n",
    "    R = x['vote_average']\n",
    "    # Calculation based on the IMDB formula\n",
    "    return (v/(v+m) * R) + (m/(m+v) * C)"
   ]
  },
  {
   "cell_type": "code",
   "execution_count": 13,
   "metadata": {},
   "outputs": [],
   "source": [
    "# Define a new feature 'score' and calculate its value with `weighted_rating()`\n",
    "movies['weighted_score'] = movies.apply(weighted_rating, axis=1)"
   ]
  },
  {
   "cell_type": "markdown",
   "metadata": {},
   "source": [
    "Finally, let's sort the DataFrame based on the score feature and output the title, vote count, vote average and weighted rating or score of the top 10 movies."
   ]
  },
  {
   "cell_type": "code",
   "execution_count": 15,
   "metadata": {},
   "outputs": [
    {
     "data": {
      "text/html": [
       "<div>\n",
       "<style scoped>\n",
       "    .dataframe tbody tr th:only-of-type {\n",
       "        vertical-align: middle;\n",
       "    }\n",
       "\n",
       "    .dataframe tbody tr th {\n",
       "        vertical-align: top;\n",
       "    }\n",
       "\n",
       "    .dataframe thead th {\n",
       "        text-align: right;\n",
       "    }\n",
       "</style>\n",
       "<table border=\"1\" class=\"dataframe\">\n",
       "  <thead>\n",
       "    <tr style=\"text-align: right;\">\n",
       "      <th></th>\n",
       "      <th>movie_title</th>\n",
       "      <th>weighted_score</th>\n",
       "      <th>title_year</th>\n",
       "      <th>director_name</th>\n",
       "    </tr>\n",
       "  </thead>\n",
       "  <tbody>\n",
       "    <tr>\n",
       "      <th>1881</th>\n",
       "      <td>The Shawshank Redemption</td>\n",
       "      <td>8.059258</td>\n",
       "      <td>1994.0</td>\n",
       "      <td>Frank Darabont</td>\n",
       "    </tr>\n",
       "    <tr>\n",
       "      <th>662</th>\n",
       "      <td>Fight Club</td>\n",
       "      <td>7.939256</td>\n",
       "      <td>1999.0</td>\n",
       "      <td>David Fincher</td>\n",
       "    </tr>\n",
       "    <tr>\n",
       "      <th>65</th>\n",
       "      <td>The Dark Knight</td>\n",
       "      <td>7.920020</td>\n",
       "      <td>2008.0</td>\n",
       "      <td>Christopher Nolan</td>\n",
       "    </tr>\n",
       "    <tr>\n",
       "      <th>3232</th>\n",
       "      <td>Pulp Fiction</td>\n",
       "      <td>7.904645</td>\n",
       "      <td>1994.0</td>\n",
       "      <td>Quentin Tarantino</td>\n",
       "    </tr>\n",
       "    <tr>\n",
       "      <th>96</th>\n",
       "      <td>Inception</td>\n",
       "      <td>7.863239</td>\n",
       "      <td>2010.0</td>\n",
       "      <td>Christopher Nolan</td>\n",
       "    </tr>\n",
       "    <tr>\n",
       "      <th>3337</th>\n",
       "      <td>The Godfather</td>\n",
       "      <td>7.851236</td>\n",
       "      <td>1972.0</td>\n",
       "      <td>Francis Ford Coppola</td>\n",
       "    </tr>\n",
       "    <tr>\n",
       "      <th>95</th>\n",
       "      <td>Interstellar</td>\n",
       "      <td>7.809479</td>\n",
       "      <td>2014.0</td>\n",
       "      <td>Christopher Nolan</td>\n",
       "    </tr>\n",
       "    <tr>\n",
       "      <th>809</th>\n",
       "      <td>Forrest Gump</td>\n",
       "      <td>7.803188</td>\n",
       "      <td>1994.0</td>\n",
       "      <td>Robert Zemeckis</td>\n",
       "    </tr>\n",
       "    <tr>\n",
       "      <th>329</th>\n",
       "      <td>The Lord of the Rings: The Return of the King</td>\n",
       "      <td>7.727243</td>\n",
       "      <td>2003.0</td>\n",
       "      <td>Peter Jackson</td>\n",
       "    </tr>\n",
       "    <tr>\n",
       "      <th>1990</th>\n",
       "      <td>The Empire Strikes Back</td>\n",
       "      <td>7.697884</td>\n",
       "      <td>1980.0</td>\n",
       "      <td>Irvin Kershner</td>\n",
       "    </tr>\n",
       "  </tbody>\n",
       "</table>\n",
       "</div>"
      ],
      "text/plain": [
       "                                        movie_title  weighted_score  \\\n",
       "1881                       The Shawshank Redemption        8.059258   \n",
       "662                                      Fight Club        7.939256   \n",
       "65                                  The Dark Knight        7.920020   \n",
       "3232                                   Pulp Fiction        7.904645   \n",
       "96                                        Inception        7.863239   \n",
       "3337                                  The Godfather        7.851236   \n",
       "95                                     Interstellar        7.809479   \n",
       "809                                    Forrest Gump        7.803188   \n",
       "329   The Lord of the Rings: The Return of the King        7.727243   \n",
       "1990                        The Empire Strikes Back        7.697884   \n",
       "\n",
       "      title_year         director_name  \n",
       "1881      1994.0        Frank Darabont  \n",
       "662       1999.0         David Fincher  \n",
       "65        2008.0     Christopher Nolan  \n",
       "3232      1994.0     Quentin Tarantino  \n",
       "96        2010.0     Christopher Nolan  \n",
       "3337      1972.0  Francis Ford Coppola  \n",
       "95        2014.0     Christopher Nolan  \n",
       "809       1994.0       Robert Zemeckis  \n",
       "329       2003.0         Peter Jackson  \n",
       "1990      1980.0        Irvin Kershner  "
      ]
     },
     "execution_count": 15,
     "metadata": {},
     "output_type": "execute_result"
    }
   ],
   "source": [
    "#Sort movies based on score calculated above\n",
    "movies = movies.sort_values(by = 'weighted_score', ascending=False, axis = 0)\n",
    "\n",
    "#Print the top 10 movies\n",
    "movies[['movie_title','weighted_score','title_year','director_name']].head(10)"
   ]
  },
  {
   "cell_type": "markdown",
   "metadata": {},
   "source": [
    "### 3.2 Content-Based Filtering Recommendation"
   ]
  },
  {
   "cell_type": "markdown",
   "metadata": {},
   "source": [
    "Content-based filtering is to recommend new items similar to previous item that has already been liked by user.\n",
    "\n",
    "#### Generally, the construction of a content-based filtering consists of the following three steps: \n",
    "\n",
    "**1. Establish item profile**\n",
    "\n",
    "Collect attributes that can be used to describe items and distinguish between items. Use 0-1 matrix to represent whether a item has the attribute. For example, for movie director, we can collect all directors as attributes. For a spcific movie like \"Matrix\", denote 1 for \"Lana Wachowski\" and \"Lilly Wachowski\", 0 for other directors.\n",
    "\n",
    "**2. Establish user profile**\n",
    "\n",
    "This process is similar to establishing item profile, except for user preference for a attribute is calculated by the average rating of items with the attribute. For example, user's preference for director \"Lana Wachowski\" is the average of all movies directed by \"Lana Wachowski\", which have been watched by the user.\n",
    "\n",
    "**3. Calculate similarity between item and user**\n",
    "\n",
    "Calculate similarity based on distance definition like cosine, L2. And recommend items which have the smallest distance from user.\n",
    "\n",
    "\n",
    "For TMDB data, we're going to establish content-based recommendation with genres, directors, actors, and movie keywords."
   ]
  },
  {
   "cell_type": "markdown",
   "metadata": {},
   "source": [
    "#### Advantages\n",
    "\n",
    "**1. User independence** CB is based entirely on one user's preference and the attributes of all items. It's independent of other users' preference. Hence no matter how other people cheat on item preference(like brushing tickets), the recommendation stays unchanged. While Collaborative-filtering relies entirely on other users' preference.\n",
    "\n",
    "**2. Interpretability** Easy to interpret and explain to non-tech people.\n",
    "\n",
    "**3. Can deal with new item \"cold-start' issue** If a new item is added to the database, it has the same chance as existing items to be recommended to user. Hence it can deal with new item cold-start issue. While Collaborative-filtering will not recommend a new item until it has been rated by some user.  \n"
   ]
  },
  {
   "cell_type": "markdown",
   "metadata": {},
   "source": [
    "#### Disadvantages\n",
    "\n",
    "**1. Hard to extract attributes** Extract attributes to represent items is challenging, for example we can use director, actors, genres to represent a movie, but these are only part of information.\n",
    "\n",
    "\n",
    "**2. Can not find potential user interest** CB will only recommend movies similar to the ones user has already watched. It can not uncover user's potential interest.\n",
    "\n",
    "\n",
    "**3. Can deal with new user \"cold-start\" issue** New user do not have preference data, hence no recommendations can be made with CB."
   ]
  },
  {
   "cell_type": "markdown",
   "metadata": {},
   "source": [
    "### 3.2.1 Use keywords, Genres, Director, Actors"
   ]
  },
  {
   "cell_type": "markdown",
   "metadata": {},
   "source": [
    "#### Data preprocessing: \n",
    "- remove \"|\" for genres and plot keywords;\n",
    "- strip space between first name and last name, because we want the model to treat first name and last name as whole."
   ]
  },
  {
   "cell_type": "code",
   "execution_count": 25,
   "metadata": {},
   "outputs": [],
   "source": [
    "df_initial['genres'] = df_initial['genres'].str.split('|')\n",
    "df_initial['plot_keywords'] = df_initial['plot_keywords'].str.split('|')"
   ]
  },
  {
   "cell_type": "code",
   "execution_count": 26,
   "metadata": {},
   "outputs": [
    {
     "data": {
      "text/html": [
       "<div>\n",
       "<style scoped>\n",
       "    .dataframe tbody tr th:only-of-type {\n",
       "        vertical-align: middle;\n",
       "    }\n",
       "\n",
       "    .dataframe tbody tr th {\n",
       "        vertical-align: top;\n",
       "    }\n",
       "\n",
       "    .dataframe thead th {\n",
       "        text-align: right;\n",
       "    }\n",
       "</style>\n",
       "<table border=\"1\" class=\"dataframe\">\n",
       "  <thead>\n",
       "    <tr style=\"text-align: right;\">\n",
       "      <th></th>\n",
       "      <th>genres</th>\n",
       "      <th>plot_keywords</th>\n",
       "      <th>director_name</th>\n",
       "      <th>actor_1_name</th>\n",
       "      <th>actor_2_name</th>\n",
       "      <th>actor_3_name</th>\n",
       "    </tr>\n",
       "  </thead>\n",
       "  <tbody>\n",
       "    <tr>\n",
       "      <th>0</th>\n",
       "      <td>[action, adventure, fantasy, sciencefiction]</td>\n",
       "      <td>[cultureclash, future, spacewar, spacecolony, ...</td>\n",
       "      <td>jamescameron</td>\n",
       "      <td>zoesaldana</td>\n",
       "      <td>sigourneyweaver</td>\n",
       "      <td>stephenlang</td>\n",
       "    </tr>\n",
       "    <tr>\n",
       "      <th>1</th>\n",
       "      <td>[adventure, fantasy, action]</td>\n",
       "      <td>[ocean, drugabuse, exoticisland, eastindiatrad...</td>\n",
       "      <td>goreverbinski</td>\n",
       "      <td>orlandobloom</td>\n",
       "      <td>keiraknightley</td>\n",
       "      <td>stellanskarsgård</td>\n",
       "    </tr>\n",
       "    <tr>\n",
       "      <th>2</th>\n",
       "      <td>[action, adventure, crime]</td>\n",
       "      <td>[spy, basedonnovel, secretagent, sequel, mi6, ...</td>\n",
       "      <td>sammendes</td>\n",
       "      <td>christophwaltz</td>\n",
       "      <td>léaseydoux</td>\n",
       "      <td>ralphfiennes</td>\n",
       "    </tr>\n",
       "    <tr>\n",
       "      <th>3</th>\n",
       "      <td>[action, crime, drama, thriller]</td>\n",
       "      <td>[dccomics, crimefighter, terrorist, secretiden...</td>\n",
       "      <td>christophernolan</td>\n",
       "      <td>michaelcaine</td>\n",
       "      <td>garyoldman</td>\n",
       "      <td>annehathaway</td>\n",
       "    </tr>\n",
       "    <tr>\n",
       "      <th>4</th>\n",
       "      <td>[action, adventure, sciencefiction]</td>\n",
       "      <td>[basedonnovel, mars, medallion, spacetravel, p...</td>\n",
       "      <td>andrewstanton</td>\n",
       "      <td>lynncollins</td>\n",
       "      <td>samanthamorton</td>\n",
       "      <td>willemdafoe</td>\n",
       "    </tr>\n",
       "  </tbody>\n",
       "</table>\n",
       "</div>"
      ],
      "text/plain": [
       "                                         genres  \\\n",
       "0  [action, adventure, fantasy, sciencefiction]   \n",
       "1                  [adventure, fantasy, action]   \n",
       "2                    [action, adventure, crime]   \n",
       "3              [action, crime, drama, thriller]   \n",
       "4           [action, adventure, sciencefiction]   \n",
       "\n",
       "                                       plot_keywords     director_name  \\\n",
       "0  [cultureclash, future, spacewar, spacecolony, ...      jamescameron   \n",
       "1  [ocean, drugabuse, exoticisland, eastindiatrad...     goreverbinski   \n",
       "2  [spy, basedonnovel, secretagent, sequel, mi6, ...         sammendes   \n",
       "3  [dccomics, crimefighter, terrorist, secretiden...  christophernolan   \n",
       "4  [basedonnovel, mars, medallion, spacetravel, p...     andrewstanton   \n",
       "\n",
       "     actor_1_name     actor_2_name      actor_3_name  \n",
       "0      zoesaldana  sigourneyweaver       stephenlang  \n",
       "1    orlandobloom   keiraknightley  stellanskarsgård  \n",
       "2  christophwaltz       léaseydoux      ralphfiennes  \n",
       "3    michaelcaine       garyoldman      annehathaway  \n",
       "4     lynncollins   samanthamorton       willemdafoe  "
      ]
     },
     "execution_count": 26,
     "metadata": {},
     "output_type": "execute_result"
    }
   ],
   "source": [
    "features = ['genres', 'plot_keywords', 'director_name', 'actor_1_name','actor_2_name','actor_3_name']\n",
    "df_initial[features].head()"
   ]
  },
  {
   "cell_type": "code",
   "execution_count": 27,
   "metadata": {},
   "outputs": [],
   "source": [
    "# Function to convert all strings to lower case and strip names of spaces\n",
    "def clean_data(x):\n",
    "    #for genres and plot_keywords\n",
    "    if isinstance(x, list):\n",
    "        return [str.lower(i.replace(\" \", \"\")) for i in x]\n",
    "    else:\n",
    "        #for director, actors\n",
    "        if isinstance(x, str):\n",
    "            return str.lower(x.replace(\" \", \"\"))\n",
    "        else:\n",
    "            return ''"
   ]
  },
  {
   "cell_type": "code",
   "execution_count": 28,
   "metadata": {},
   "outputs": [],
   "source": [
    "# Apply clean_data function to your features.\n",
    "for feature in features:\n",
    "    df_initial[feature] = df_initial[feature].apply(clean_data)"
   ]
  },
  {
   "cell_type": "code",
   "execution_count": 29,
   "metadata": {},
   "outputs": [
    {
     "data": {
      "text/html": [
       "<div>\n",
       "<style scoped>\n",
       "    .dataframe tbody tr th:only-of-type {\n",
       "        vertical-align: middle;\n",
       "    }\n",
       "\n",
       "    .dataframe tbody tr th {\n",
       "        vertical-align: top;\n",
       "    }\n",
       "\n",
       "    .dataframe thead th {\n",
       "        text-align: right;\n",
       "    }\n",
       "</style>\n",
       "<table border=\"1\" class=\"dataframe\">\n",
       "  <thead>\n",
       "    <tr style=\"text-align: right;\">\n",
       "      <th></th>\n",
       "      <th>genres</th>\n",
       "      <th>plot_keywords</th>\n",
       "      <th>director_name</th>\n",
       "      <th>actor_1_name</th>\n",
       "      <th>actor_2_name</th>\n",
       "      <th>actor_3_name</th>\n",
       "    </tr>\n",
       "  </thead>\n",
       "  <tbody>\n",
       "    <tr>\n",
       "      <th>0</th>\n",
       "      <td>[action, adventure, fantasy, sciencefiction]</td>\n",
       "      <td>[cultureclash, future, spacewar, spacecolony, ...</td>\n",
       "      <td>jamescameron</td>\n",
       "      <td>zoesaldana</td>\n",
       "      <td>sigourneyweaver</td>\n",
       "      <td>stephenlang</td>\n",
       "    </tr>\n",
       "    <tr>\n",
       "      <th>1</th>\n",
       "      <td>[adventure, fantasy, action]</td>\n",
       "      <td>[ocean, drugabuse, exoticisland, eastindiatrad...</td>\n",
       "      <td>goreverbinski</td>\n",
       "      <td>orlandobloom</td>\n",
       "      <td>keiraknightley</td>\n",
       "      <td>stellanskarsgård</td>\n",
       "    </tr>\n",
       "    <tr>\n",
       "      <th>2</th>\n",
       "      <td>[action, adventure, crime]</td>\n",
       "      <td>[spy, basedonnovel, secretagent, sequel, mi6, ...</td>\n",
       "      <td>sammendes</td>\n",
       "      <td>christophwaltz</td>\n",
       "      <td>léaseydoux</td>\n",
       "      <td>ralphfiennes</td>\n",
       "    </tr>\n",
       "    <tr>\n",
       "      <th>3</th>\n",
       "      <td>[action, crime, drama, thriller]</td>\n",
       "      <td>[dccomics, crimefighter, terrorist, secretiden...</td>\n",
       "      <td>christophernolan</td>\n",
       "      <td>michaelcaine</td>\n",
       "      <td>garyoldman</td>\n",
       "      <td>annehathaway</td>\n",
       "    </tr>\n",
       "    <tr>\n",
       "      <th>4</th>\n",
       "      <td>[action, adventure, sciencefiction]</td>\n",
       "      <td>[basedonnovel, mars, medallion, spacetravel, p...</td>\n",
       "      <td>andrewstanton</td>\n",
       "      <td>lynncollins</td>\n",
       "      <td>samanthamorton</td>\n",
       "      <td>willemdafoe</td>\n",
       "    </tr>\n",
       "  </tbody>\n",
       "</table>\n",
       "</div>"
      ],
      "text/plain": [
       "                                         genres  \\\n",
       "0  [action, adventure, fantasy, sciencefiction]   \n",
       "1                  [adventure, fantasy, action]   \n",
       "2                    [action, adventure, crime]   \n",
       "3              [action, crime, drama, thriller]   \n",
       "4           [action, adventure, sciencefiction]   \n",
       "\n",
       "                                       plot_keywords     director_name  \\\n",
       "0  [cultureclash, future, spacewar, spacecolony, ...      jamescameron   \n",
       "1  [ocean, drugabuse, exoticisland, eastindiatrad...     goreverbinski   \n",
       "2  [spy, basedonnovel, secretagent, sequel, mi6, ...         sammendes   \n",
       "3  [dccomics, crimefighter, terrorist, secretiden...  christophernolan   \n",
       "4  [basedonnovel, mars, medallion, spacetravel, p...     andrewstanton   \n",
       "\n",
       "     actor_1_name     actor_2_name      actor_3_name  \n",
       "0      zoesaldana  sigourneyweaver       stephenlang  \n",
       "1    orlandobloom   keiraknightley  stellanskarsgård  \n",
       "2  christophwaltz       léaseydoux      ralphfiennes  \n",
       "3    michaelcaine       garyoldman      annehathaway  \n",
       "4     lynncollins   samanthamorton       willemdafoe  "
      ]
     },
     "execution_count": 29,
     "metadata": {},
     "output_type": "execute_result"
    }
   ],
   "source": [
    "df_initial[features].head()"
   ]
  },
  {
   "cell_type": "code",
   "execution_count": 30,
   "metadata": {},
   "outputs": [],
   "source": [
    "# Function to join all attributes\n",
    "def create_soup(x):\n",
    "    return ' '.join(x['plot_keywords']) + ' ' + ' '.join(x['actor_1_name']) + ' ' + ' '.join(x['director_name']) + ' ' + ' '.join(x['genres'])+ ' ' + ' '.join(x['actor_2_name'])+ ' ' + ' '.join(x['actor_3_name'])"
   ]
  },
  {
   "cell_type": "code",
   "execution_count": 31,
   "metadata": {},
   "outputs": [
    {
     "data": {
      "text/plain": [
       "0    cultureclash future spacewar spacecolony socie...\n",
       "1    ocean drugabuse exoticisland eastindiatradingc...\n",
       "2    spy basedonnovel secretagent sequel mi6 britis...\n",
       "3    dccomics crimefighter terrorist secretidentity...\n",
       "4    basedonnovel mars medallion spacetravel prince...\n",
       "Name: soup, dtype: object"
      ]
     },
     "execution_count": 31,
     "metadata": {},
     "output_type": "execute_result"
    }
   ],
   "source": [
    "# Apply create_soup function to your df\n",
    "df_initial['soup'] = df_initial.apply(create_soup, axis =1)\n",
    "df_initial['soup'].head()"
   ]
  },
  {
   "cell_type": "markdown",
   "metadata": {},
   "source": [
    "#### Convert the collection of text documents, to a matrix of token counts"
   ]
  },
  {
   "cell_type": "code",
   "execution_count": 33,
   "metadata": {},
   "outputs": [],
   "source": [
    "# Import CountVectorizer and create the count matrix\n",
    "from sklearn.feature_extraction.text import CountVectorizer\n",
    "\n",
    "count = CountVectorizer(stop_words='english')\n",
    "count_matrix = count.fit_transform(df_initial['soup'])"
   ]
  },
  {
   "cell_type": "code",
   "execution_count": 38,
   "metadata": {},
   "outputs": [],
   "source": [
    "# Compute the Cosine Similarity matrix based on the count_matrix\n",
    "from sklearn.metrics.pairwise import cosine_similarity\n",
    "\n",
    "cosine_sim1 = cosine_similarity(count_matrix, count_matrix)"
   ]
  },
  {
   "cell_type": "markdown",
   "metadata": {},
   "source": [
    "### 3.2.2 Use Overview (Plot)"
   ]
  },
  {
   "cell_type": "markdown",
   "metadata": {},
   "source": [
    "TF-IDF is widely used as the last pre-processing step in NLP. It identifies word frequency, reduces the impact of the words that are more common in the corpus, and transforms text data into matrix for modelling.\n",
    "\n",
    "Broadly speaking, if a word occurs many times in a document it is likely to be important. However, if it also appears frequently across multiple documents then it may just be a common word and not in fact very meaningful. "
   ]
  },
  {
   "cell_type": "code",
   "execution_count": 40,
   "metadata": {},
   "outputs": [],
   "source": [
    "#Import TfIdfVectorizer from scikit-learn\n",
    "from sklearn.feature_extraction.text import TfidfVectorizer\n",
    "\n",
    "#Define a TF-IDF Vectorizer Object. Remove all english stop words such as 'the', 'a'\n",
    "tfidf = TfidfVectorizer(stop_words='english')\n",
    "\n",
    "#Replace NaN with an empty string\n",
    "df_initial['overview'] = df_initial['overview'].fillna('')\n",
    "\n",
    "#Construct the required TF-IDF matrix by fitting and transforming the data\n",
    "tfidf_matrix = tfidf.fit_transform(df_initial['overview'])\n",
    "\n",
    "#Output the shape of tfidf_matrix\n",
    "tfidf_matrix.shape\n",
    "\n",
    "# Import linear_kernel\n",
    "from sklearn.metrics.pairwise import linear_kernel\n",
    "\n",
    "# Compute the cosine similarity matrix\n",
    "cosine_sim = linear_kernel(tfidf_matrix, tfidf_matrix)"
   ]
  },
  {
   "cell_type": "markdown",
   "metadata": {},
   "source": [
    "### 3.2.3 Recommendation based on cosine similarity"
   ]
  },
  {
   "cell_type": "code",
   "execution_count": 42,
   "metadata": {},
   "outputs": [
    {
     "data": {
      "text/plain": [
       "movie_title\n",
       "Avatar                                      0\n",
       "Pirates of the Caribbean: At World's End    1\n",
       "Spectre                                     2\n",
       "The Dark Knight Rises                       3\n",
       "John Carter                                 4\n",
       "dtype: int64"
      ]
     },
     "execution_count": 42,
     "metadata": {},
     "output_type": "execute_result"
    }
   ],
   "source": [
    "# Reset index of our main DataFrame and construct reverse mapping as before\n",
    "df_initial = df_initial.reset_index()\n",
    "indices = pd.Series(df_initial.index, index=df_initial['movie_title'])\n",
    "indices.head()"
   ]
  },
  {
   "cell_type": "code",
   "execution_count": 41,
   "metadata": {},
   "outputs": [],
   "source": [
    "# Function that takes in movie title as input and outputs most similar movies\n",
    "def get_recommendations(title, cosine_sim=cosine_sim):\n",
    "    # Get the index of the movie that matches the title\n",
    "    idx = indices[title]\n",
    "\n",
    "    # Get the pairwsie similarity scores of all movies with that movie\n",
    "    sim_scores = list(enumerate(cosine_sim[idx]))\n",
    "\n",
    "    # Sort the movies based on the similarity scores\n",
    "    sim_scores = sorted(sim_scores, key=lambda x: x[1], reverse=True)\n",
    "\n",
    "    # Get the scores of the 10 most similar movies\n",
    "    sim_scores = sim_scores[1:11]\n",
    "\n",
    "    # Get the movie indices\n",
    "    movie_indices = [i[0] for i in sim_scores]\n",
    "\n",
    "    # Return the top 10 most similar movies\n",
    "    return df_initial['movie_title'].iloc[movie_indices]"
   ]
  },
  {
   "cell_type": "markdown",
   "metadata": {},
   "source": [
    "#### Recommendation for movie \"The Shawshank Redemption\" based on plot similarity:"
   ]
  },
  {
   "cell_type": "code",
   "execution_count": 46,
   "metadata": {},
   "outputs": [
    {
     "data": {
      "text/plain": [
       "4531               Civil Brand\n",
       "3785                    Prison\n",
       "609                Escape Plan\n",
       "2868                  Fortress\n",
       "4727              Penitentiary\n",
       "1779    The 40 Year Old Virgin\n",
       "2667          Fatal Attraction\n",
       "3871         A Christmas Story\n",
       "434           The Longest Yard\n",
       "42                 Toy Story 3\n",
       "Name: movie_title, dtype: object"
      ]
     },
     "execution_count": 46,
     "metadata": {},
     "output_type": "execute_result"
    }
   ],
   "source": [
    "get_recommendations('The Shawshank Redemption')"
   ]
  },
  {
   "cell_type": "markdown",
   "metadata": {},
   "source": [
    "#### Recommendation for movie \"The Shawshank Redemption\" based on genre/keyword/director/actors similarity:"
   ]
  },
  {
   "cell_type": "code",
   "execution_count": 47,
   "metadata": {},
   "outputs": [
    {
     "data": {
      "text/plain": [
       "1464                Black Water Transit\n",
       "3112            Blood Done Sign My Name\n",
       "4184                  Deadline - U.S.A.\n",
       "4377                              Ajami\n",
       "4502                      Water & Power\n",
       "4556                   El Rey de Najayo\n",
       "4634               Better Luck Tomorrow\n",
       "4664                            Bronson\n",
       "2216                    We're No Angels\n",
       "588     Wall Street: Money Never Sleeps\n",
       "Name: movie_title, dtype: object"
      ]
     },
     "execution_count": 47,
     "metadata": {},
     "output_type": "execute_result"
    }
   ],
   "source": [
    "get_recommendations('The Shawshank Redemption',cosine_sim1)"
   ]
  }
 ],
 "metadata": {
  "kernelspec": {
   "display_name": "Python 3",
   "language": "python",
   "name": "python3"
  },
  "language_info": {
   "codemirror_mode": {
    "name": "ipython",
    "version": 3
   },
   "file_extension": ".py",
   "mimetype": "text/x-python",
   "name": "python",
   "nbconvert_exporter": "python",
   "pygments_lexer": "ipython3",
   "version": "3.6.4"
  }
 },
 "nbformat": 4,
 "nbformat_minor": 2
}
